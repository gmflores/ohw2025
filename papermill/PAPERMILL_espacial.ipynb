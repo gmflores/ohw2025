{
 "cells": [
  {
   "cell_type": "markdown",
   "metadata": {},
   "source": [
    "#### Genera informes a partir de una plantilla\n",
    "\n",
    "---\n",
    "\n",
    "Guillermo Martínez Flores\n",
    "\n",
    "Script original proporcionado por Laura Gómez\n",
    "\n",
    "Utiliza la librería `papermill` para generar informes (con mapas incluidos) en formato `pdf` a partir de una notebook plantilla (`pantilla_espacial.ipynb`). Una vez generados los `pdf`los scripts temporales son eliminados con `os.remove()`.\n",
    "\n",
    "**Librería**\n",
    "\n",
    "- **papermill** Permite ejecutar cuadernos y pasarles parámetros. \n",
    "\n",
    "**Datos**\n",
    "\n",
    "Datos de temperatura superficial del mar (NetCDF), para un día en particular.\n",
    "\n",
    "Fuente: https://data.remss.com/SST/daily/mw_ir/v05.1/netcdf/.\n",
    "\n",
    "Archivo: `20251004120000-REMSS-L4_GHRSST-SSTfnd-MW_IR_OI-GLOB-v02.0-fv05.1.nc`"
   ]
  },
  {
   "cell_type": "markdown",
   "metadata": {},
   "source": [
    "Importar la librería"
   ]
  },
  {
   "cell_type": "code",
   "execution_count": 22,
   "metadata": {},
   "outputs": [],
   "source": [
    "import papermill as pm\n",
    "import os"
   ]
  },
  {
   "cell_type": "markdown",
   "metadata": {},
   "source": [
    "Define los límites de las regiones de interés y los nombres de cada región"
   ]
  },
  {
   "cell_type": "code",
   "execution_count": 23,
   "metadata": {},
   "outputs": [],
   "source": [
    "region     = [[-117,-105,20,32],\n",
    "              [-100,-85,18,32],\n",
    "              [-117,-85,15,32],\n",
    "              [-89,-60,8,23]]\n",
    "regionName  = ['Golfo_de_California','Golfo_de_México','México','Mar_Caribe']"
   ]
  },
  {
   "cell_type": "markdown",
   "metadata": {},
   "source": [
    "Ciclo para recorrer los arreglos de `region`y `regionName` y con estos parámetros ejecutar la plantilla:"
   ]
  },
  {
   "cell_type": "code",
   "execution_count": 24,
   "metadata": {
    "scrolled": true
   },
   "outputs": [
    {
     "data": {
      "application/vnd.jupyter.widget-view+json": {
       "model_id": "8305af2934a64c63ae2e0cf13a7afa3f",
       "version_major": 2,
       "version_minor": 0
      },
      "text/plain": [
       "Executing:   0%|          | 0/20 [00:00<?, ?cell/s]"
      ]
     },
     "metadata": {},
     "output_type": "display_data"
    },
    {
     "name": "stderr",
     "output_type": "stream",
     "text": [
      "[NbConvertApp] Converting notebook output_Golfo_de_California.ipynb to pdf\n",
      "[NbConvertApp] Support files will be in output_Golfo_de_California_files/\n",
      "[NbConvertApp] Making directory ./output_Golfo_de_California_files\n",
      "[NbConvertApp] Writing 22521 bytes to notebook.tex\n",
      "[NbConvertApp] Building PDF\n",
      "[NbConvertApp] Running xelatex 3 times: ['xelatex', 'notebook.tex', '-quiet']\n",
      "[NbConvertApp] Running bibtex 1 time: ['bibtex', 'notebook']\n",
      "[NbConvertApp] WARNING | bibtex had problems, most likely because there were no citations\n",
      "[NbConvertApp] PDF successfully created\n",
      "[NbConvertApp] Writing 342533 bytes to output_Golfo_de_California.pdf\n"
     ]
    },
    {
     "name": "stdout",
     "output_type": "stream",
     "text": [
      "Archivo output_Golfo_de_California.ipynb eliminado correctamente.\n"
     ]
    },
    {
     "data": {
      "application/vnd.jupyter.widget-view+json": {
       "model_id": "61adcc036ca64c73898aa9e287a71927",
       "version_major": 2,
       "version_minor": 0
      },
      "text/plain": [
       "Executing:   0%|          | 0/20 [00:00<?, ?cell/s]"
      ]
     },
     "metadata": {},
     "output_type": "display_data"
    },
    {
     "name": "stderr",
     "output_type": "stream",
     "text": [
      "[NbConvertApp] Converting notebook output_Golfo_de_México.ipynb to pdf\n",
      "[NbConvertApp] Support files will be in output_Golfo_de_México_files/\n",
      "[NbConvertApp] Making directory ./output_Golfo_de_México_files\n",
      "[NbConvertApp] Writing 22476 bytes to notebook.tex\n",
      "[NbConvertApp] Building PDF\n",
      "[NbConvertApp] Running xelatex 3 times: ['xelatex', 'notebook.tex', '-quiet']\n",
      "[NbConvertApp] Running bibtex 1 time: ['bibtex', 'notebook']\n",
      "[NbConvertApp] WARNING | bibtex had problems, most likely because there were no citations\n",
      "[NbConvertApp] PDF successfully created\n",
      "[NbConvertApp] Writing 344519 bytes to output_Golfo_de_México.pdf\n"
     ]
    },
    {
     "name": "stdout",
     "output_type": "stream",
     "text": [
      "Archivo output_Golfo_de_México.ipynb eliminado correctamente.\n"
     ]
    },
    {
     "data": {
      "application/vnd.jupyter.widget-view+json": {
       "model_id": "85344369ce284fe3a9c472dabb9683dd",
       "version_major": 2,
       "version_minor": 0
      },
      "text/plain": [
       "Executing:   0%|          | 0/20 [00:00<?, ?cell/s]"
      ]
     },
     "metadata": {},
     "output_type": "display_data"
    },
    {
     "name": "stderr",
     "output_type": "stream",
     "text": [
      "[NbConvertApp] Converting notebook output_México.ipynb to pdf\n",
      "[NbConvertApp] Support files will be in output_México_files/\n",
      "[NbConvertApp] Making directory ./output_México_files\n",
      "[NbConvertApp] Writing 22375 bytes to notebook.tex\n",
      "[NbConvertApp] Building PDF\n",
      "[NbConvertApp] Running xelatex 3 times: ['xelatex', 'notebook.tex', '-quiet']\n",
      "[NbConvertApp] Running bibtex 1 time: ['bibtex', 'notebook']\n",
      "[NbConvertApp] WARNING | bibtex had problems, most likely because there were no citations\n",
      "[NbConvertApp] PDF successfully created\n",
      "[NbConvertApp] Writing 393616 bytes to output_México.pdf\n"
     ]
    },
    {
     "name": "stdout",
     "output_type": "stream",
     "text": [
      "Archivo output_México.ipynb eliminado correctamente.\n"
     ]
    },
    {
     "data": {
      "application/vnd.jupyter.widget-view+json": {
       "model_id": "71252287cde24a64a38d7a286e4aa64f",
       "version_major": 2,
       "version_minor": 0
      },
      "text/plain": [
       "Executing:   0%|          | 0/20 [00:00<?, ?cell/s]"
      ]
     },
     "metadata": {},
     "output_type": "display_data"
    },
    {
     "name": "stderr",
     "output_type": "stream",
     "text": [
      "[NbConvertApp] Converting notebook output_Mar_Caribe.ipynb to pdf\n",
      "[NbConvertApp] Support files will be in output_Mar_Caribe_files/\n",
      "[NbConvertApp] Making directory ./output_Mar_Caribe_files\n",
      "[NbConvertApp] Writing 22418 bytes to notebook.tex\n",
      "[NbConvertApp] Building PDF\n",
      "[NbConvertApp] Running xelatex 3 times: ['xelatex', 'notebook.tex', '-quiet']\n",
      "[NbConvertApp] Running bibtex 1 time: ['bibtex', 'notebook']\n",
      "[NbConvertApp] WARNING | bibtex had problems, most likely because there were no citations\n",
      "[NbConvertApp] PDF successfully created\n",
      "[NbConvertApp] Writing 454882 bytes to output_Mar_Caribe.pdf\n"
     ]
    },
    {
     "name": "stdout",
     "output_type": "stream",
     "text": [
      "Archivo output_Mar_Caribe.ipynb eliminado correctamente.\n"
     ]
    }
   ],
   "source": [
    "for r, rn in zip(region, regionName):\n",
    "    fn_out = 'output_' + rn\n",
    "    pm.execute_notebook('plantilla_espacial.ipynb', 'output_' + rn + '.ipynb', parameters=dict(region=r, regionName=rn, nombre_salida=fn_out))\n",
    "    # Eliminar el archivo .ipynb después de generar el PDF\n",
    "    try:\n",
    "        os.remove(f'{fn_out}.ipynb')\n",
    "        print(f\"Archivo {fn_out}.ipynb eliminado correctamente.\")\n",
    "    except FileNotFoundError:\n",
    "        print(f\"El archivo {fn_out}.ipynb no existe.\")\n",
    "    except Exception as e:\n",
    "        print(f\"Error al eliminar {fn_out}.ipynb: {e}\")\n"
   ]
  }
 ],
 "metadata": {
  "anaconda-cloud": {},
  "kernelspec": {
   "display_name": "gis",
   "language": "python",
   "name": "python3"
  },
  "language_info": {
   "codemirror_mode": {
    "name": "ipython",
    "version": 3
   },
   "file_extension": ".py",
   "mimetype": "text/x-python",
   "name": "python",
   "nbconvert_exporter": "python",
   "pygments_lexer": "ipython3",
   "version": "3.13.3"
  }
 },
 "nbformat": 4,
 "nbformat_minor": 4
}
